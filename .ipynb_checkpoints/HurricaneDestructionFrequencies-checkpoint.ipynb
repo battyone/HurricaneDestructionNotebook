{
 "cells": [
  {
   "cell_type": "markdown",
   "metadata": {},
   "source": [
    "# The most destructive hurricane events are becoming more frequent\n",
    "\n",
    "One of the claims in our new paper is that hurricanes have become more frequent since 1900. This notebook allows you to experiment and see for yourself. \n",
    "\n",
    "\n",
    "\n",
    "Grinsted et al. https://www.pnas.org/content/early/2019/11/05/1912277116\n"
   ]
  },
  {
   "cell_type": "code",
   "execution_count": 13,
   "metadata": {},
   "outputs": [],
   "source": [
    "import pandas as pd\n",
    "import numpy as np\n",
    "import matplotlib.pyplot as plt\n",
    "import datetime\n",
    "import statsmodels.api as sm"
   ]
  },
  {
   "cell_type": "markdown",
   "metadata": {},
   "source": [
    "## Select data and load it"
   ]
  },
  {
   "cell_type": "code",
   "execution_count": 14,
   "metadata": {},
   "outputs": [],
   "source": [
    "#inputdata = 'ICAT'\n",
    "inputdata = 'Weinkle'\n",
    "#field = 'ND' \n",
    "field = 'ATD'\n",
    "\n",
    "df = pd.read_excel(r'Data\\Dataset S1 - ATD.xls',sheet_name='ATD of {}'.format(inputdata))\n",
    "df['year'] = pd.to_datetime(df.lf_ISO_TIME.values).year\n",
    "df['decade'] = np.floor(df['year']/10)*10\n",
    "\n",
    "if field=='ND':\n",
    "    multiplier = 1e-9\n",
    "    units = 'bn'\n",
    "    threshold = 20\n",
    "else:\n",
    "    multiplier = 1 \n",
    "    units = 'km2'\n",
    "    threshold = 800\n"
   ]
  },
  {
   "cell_type": "markdown",
   "metadata": {},
   "source": [
    "## Make a plot of the input data"
   ]
  },
  {
   "cell_type": "code",
   "execution_count": 15,
   "metadata": {
    "scrolled": true
   },
   "outputs": [
    {
     "data": {
      "image/png": "[encoded data removed]",
      "text/plain": [
       "<Figure size 432x288 with 1 Axes>"
      ]
     },
     "metadata": {
      "needs_background": "light"
     },
     "output_type": "display_data"
    }
   ],
   "source": [
    "new_index = pd.Index(np.arange(df.year.min(),df.year.max()+1), name=\"year\")\n",
    "D = df.groupby(['year'])[field].agg('sum')\n",
    "D = D.reindex(new_index)\n",
    "D.fillna(0,inplace = True)\n",
    "\n",
    "ty = D.index.values \n",
    "V = D.values* multiplier\n",
    "\n",
    "plt.bar(ty,V,width=1)\n",
    "plt.xlabel('Year')\n",
    "plt.ylabel('{} ({})'.format(field,units));\n",
    "plt.title(inputdata);\n"
   ]
  },
  {
   "cell_type": "markdown",
   "metadata": {},
   "source": [
    "## calculate decadal frequencies of events above threshold"
   ]
  },
  {
   "cell_type": "code",
   "execution_count": 16,
   "metadata": {},
   "outputs": [
    {
     "name": "stderr",
     "output_type": "stream",
     "text": [
      "C:\\Users\\ag\\Anaconda3\\lib\\site-packages\\ipykernel_launcher.py:3: RuntimeWarning: invalid value encountered in greater_equal\n",
      "  This is separate from the ipykernel package so we can avoid doing imports until\n",
      "C:\\Users\\ag\\Anaconda3\\lib\\site-packages\\ipykernel_launcher.py:4: RuntimeWarning: invalid value encountered in greater_equal\n",
      "  after removing the cwd from sys.path.\n"
     ]
    }
   ],
   "source": [
    "x = df['lf_ISO_TIME'].values\n",
    "y = df[field].values * multiplier\n",
    "x = x[y>=0] #remove nans\n",
    "y = y[y>=0] #remove nans\n",
    "\n",
    "window = np.timedelta64(10*365,'D')\n",
    "\n",
    "tstart = np.datetime64(datetime.datetime(pd.to_datetime(np.min(x)).year,1,1))\n",
    "tend = np.datetime64(datetime.datetime(pd.to_datetime(np.max(x)).year,12,31))\n",
    "\n",
    "t = np.arange(tstart+window/2,tend-window/2,np.timedelta64(365,'D'))\n",
    "\n",
    "tx = (t-np.datetime64(datetime.datetime(1900,7,1)))/np.timedelta64(1,'D')\n",
    "tx = tx/365.25+1900\n",
    "\n",
    "count = np.empty(t.size)\n",
    "for ix,ti in enumerate(t):\n",
    "    count[ix] = np.sum((x>ti-window/2) & (x<ti+window/2) & (y>=threshold))\n"
   ]
  },
  {
   "cell_type": "markdown",
   "metadata": {},
   "source": [
    "## Calculate Trend on events per year data."
   ]
  },
  {
   "cell_type": "code",
   "execution_count": 17,
   "metadata": {},
   "outputs": [],
   "source": [
    "\n",
    "# Count the number of events per year above the threshold \n",
    "tt = pd.Index(np.arange(df.year.min(),df.year.max()+1), name=\"year\")\n",
    "D = df.groupby(['year'])[field].agg(lambda x: np.sum(x*multiplier>=threshold))\n",
    "D = D.reindex(tt)\n",
    "D.fillna(0,inplace = True)\n",
    "\n",
    "# Fit a poisson trend\n",
    "tt = D.index.values - 1950   \n",
    "Ny = D.values\n",
    "X = sm.add_constant(tt, prepend=False)\n",
    "glm_poisson = sm.GLM(Ny, X, family=sm.families.Poisson())\n",
    "res = glm_poisson.fit()        \n",
    "y_model = res.predict(X)*10 \n",
    "tt = tt+1950\n",
    "\n",
    "slope = (y_model[tt==2000]/y_model[tt==1900])[0]\n"
   ]
  },
  {
   "cell_type": "markdown",
   "metadata": {},
   "source": [
    "## Plot the results"
   ]
  },
  {
   "cell_type": "code",
   "execution_count": 18,
   "metadata": {},
   "outputs": [
    {
     "data": {
      "text/plain": [
       "<matplotlib.legend.Legend at 0x1f324239208>"
      ]
     },
     "execution_count": 18,
     "metadata": {},
     "output_type": "execute_result"
    },
    {
     "data": {
      "image/png": "[encoded data removed]",
      "text/plain": [
       "<Figure size 432x288 with 1 Axes>"
      ]
     },
     "metadata": {
      "needs_background": "light"
     },
     "output_type": "display_data"
    }
   ],
   "source": [
    "\n",
    "plt.fill_between(tx,count,count*0)\n",
    "plt.xlabel('Year')\n",
    "plt.title('Frequency of events with {}>{}{} using {}'.format(field,threshold,units,inputdata));\n",
    "plt.ylabel('Events per decade');\n",
    "\n",
    "plt.plot(tt,y_model,'k--',label='Poisson slope {:.1f}x/century'.format(slope))\n",
    "plt.legend(loc='upper left')"
   ]
  },
  {
   "cell_type": "markdown",
   "metadata": {},
   "source": [
    "## Are the Early and Late halves of the series different?\n",
    "This is not a test from the paper. This is simpler. Are the observed counts in the Early half of the series statistically different from the count in the Late Half."
   ]
  },
  {
   "cell_type": "code",
   "execution_count": 59,
   "metadata": {},
   "outputs": [
    {
     "name": "stdout",
     "output_type": "stream",
     "text": [
      "----------- ATD>800km2 using Weinkle -------------\n",
      "Early half of the series has 11 events\n",
      " Late half of the series has 23 events \n"
     ]
    }
   ],
   "source": [
    "EarlyCount = np.sum(Ny[tt<np.mean(tt)])\n",
    "LateCount = np.sum(Ny[tt>np.mean(tt)])\n",
    "\n",
    "print('----------- {}>{}{} using {} -------------'.format(field,threshold,units,inputdata))\n",
    "print('Early half of the series has {:.0f} events'.format(EarlyCount))\n",
    "print(' Late half of the series has {:.0f} events '.format(LateCount))\n"
   ]
  },
  {
   "cell_type": "markdown",
   "metadata": {},
   "source": [
    "## What is the p-value of the early vs late count difference?\n",
    "\n",
    "Could a difference between Early and Late counts be this much different just by chance. The null hypothesis we test against is that the total number of events is divided randomly between the two pools (i.e. no trend)."
   ]
  },
  {
   "cell_type": "code",
   "execution_count": 58,
   "metadata": {},
   "outputs": [
    {
     "data": {
      "image/png": "[encoded data removed]",
      "text/plain": [
       "<Figure size 432x288 with 1 Axes>"
      ]
     },
     "metadata": {
      "needs_background": "light"
     },
     "output_type": "display_data"
    }
   ],
   "source": [
    "observed_diff= np.abs(LateCount-EarlyCount)\n",
    "\n",
    "Ntotal = int(EarlyCount+LateCount)\n",
    "\n",
    "#divide Ntotal number of balls randomly between two baskets\n",
    "E = np.random.randint(2,size=(10000,Ntotal)) \n",
    "E = np.sum(mc,axis=1)\n",
    "L = Ntotal-E\n",
    "diff = np.abs(E-L)\n",
    "\n",
    "pvalue = np.sum(diff>=observed_diff) / diff.size\n",
    "plt.hist(diff)\n",
    "plt.axvline(observed_diff,color='r')\n",
    "\n",
    "plt.title('Two sided p-value: {:.1g}'.format(pvalue));\n"
   ]
  }
 ],
 "metadata": {
  "kernelspec": {
   "display_name": "Python 3",
   "language": "python",
   "name": "python3"
  },
  "language_info": {
   "codemirror_mode": {
    "name": "ipython",
    "version": 3
   },
   "file_extension": ".py",
   "mimetype": "text/x-python",
   "name": "python",
   "nbconvert_exporter": "python",
   "pygments_lexer": "ipython3",
   "version": "3.7.1"
  }
 },
 "nbformat": 4,
 "nbformat_minor": 2
}
